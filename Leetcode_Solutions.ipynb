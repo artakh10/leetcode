{
 "cells": [
  {
   "cell_type": "markdown",
   "id": "45e1de70-215a-4d52-bbee-cca7be572efb",
   "metadata": {
    "collapsed": true,
    "jp-MarkdownHeadingCollapsed": true,
    "jupyter": {
     "outputs_hidden": true
    }
   },
   "source": [
    "#### Questions from: Leetcode\n",
    "#### Author: Arta Khosravi\n",
    "#### Last Update: Feb. 2025"
   ]
  },
  {
   "cell_type": "markdown",
   "id": "4a316dd0-9796-424d-84b9-770104879187",
   "metadata": {
    "jp-MarkdownHeadingCollapsed": true
   },
   "source": [
    "## Q. 392: Is Subsequent"
   ]
  },
  {
   "cell_type": "markdown",
   "id": "cae023a2-814a-4e9e-9c54-2b81222617a4",
   "metadata": {},
   "source": [
    "Given two strings s and t, return true if s is a subsequence of t, or false otherwise.\n",
    "\n",
    "A subsequence of a string is a new string that is formed from the original string by deleting some (can be none) of the characters without disturbing the relative positions of the remaining characters. (i.e., \"ace\" is a subsequence of \"abcde\" while \"aec\" is not).\n",
    "\n",
    "Example 1:\n",
    "```\n",
    "Input: s = \"abc\", t = \"ahbgdc\"\n",
    "Output: true\n",
    "```\n",
    "Example 2:\n",
    "```\n",
    "Input: s = \"axc\", t = \"ahbgdc\"\n",
    "Output: false\n",
    "```"
   ]
  },
  {
   "cell_type": "code",
   "execution_count": 105,
   "id": "88fa9b1d-77a2-499d-898f-a6811690c814",
   "metadata": {},
   "outputs": [
    {
     "name": "stdin",
     "output_type": "stream",
     "text": [
      "Please insert the initial string:  abc\n",
      "Please insert the second string:  ahbgdc\n"
     ]
    },
    {
     "name": "stdout",
     "output_type": "stream",
     "text": [
      "True\n"
     ]
    },
    {
     "name": "stdin",
     "output_type": "stream",
     "text": [
      "Please insert the initial string:  axc\n",
      "Please insert the second string:  ahbgdc\n"
     ]
    },
    {
     "name": "stdout",
     "output_type": "stream",
     "text": [
      "False\n"
     ]
    }
   ],
   "source": [
    "import string\n",
    "class Is_Subsequence():\n",
    "    def Sequence(self):\n",
    "        while True:\n",
    "            try:\n",
    "                s = input(str('Please insert the initial string: '))\n",
    "                if s.isdigit() or s in string.punctuation:\n",
    "                    print(\"Please insert a correct string without any numbers or special characters.\")\n",
    "                    continue\n",
    "                t = input(str('Please insert the second string: '))\n",
    "                if t.isdigit() or t in string.punctuation:\n",
    "                    print(\"Please insert a correct string without any numbers or special characters.\")\n",
    "                    continue\n",
    "                i , j = 0 , 0\n",
    "                while i < len(s) and j < len(t):\n",
    "                    if s[i] == t[j]:\n",
    "                        i+=1\n",
    "                    j+=1\n",
    "                return i == len(s)\n",
    "            except:\n",
    "                print('Please insert a correct string')\n",
    "check = Is_Subsequence()\n",
    "print(check.Sequence()),print(check.Sequence());"
   ]
  },
  {
   "cell_type": "markdown",
   "id": "ea73c6d0-3ab1-4e22-8a74-2e7b9c183aed",
   "metadata": {
    "jp-MarkdownHeadingCollapsed": true
   },
   "source": [
    "## Q. 88: Merge Sorted Array:"
   ]
  },
  {
   "cell_type": "markdown",
   "id": "18bbde1c-8921-4209-aa76-86de0ac652e6",
   "metadata": {},
   "source": [
    "You are given two integer arrays nums1 and nums2, sorted in non-decreasing order, and two integers m and n, representing the number of elements in nums1 and nums2 respectively.\n",
    "\n",
    "Merge nums1 and nums2 into a single array sorted in non-decreasing order.\n",
    "\n",
    "The final sorted array should not be returned by the function, but instead be stored inside the array nums1. To accommodate this, nums1 has a length of m + n, where the first m elements denote the elements that should be merged, and the last n elements are set to 0 and should be ignored. nums2 has a length of n.\n",
    "\n",
    " \n",
    "\n",
    "Example 1:\n",
    "```\n",
    "Input: nums1 = [1,2,3,0,0,0], m = 3, nums2 = [2,5,6], n = 3\n",
    "Output: [1,2,2,3,5,6]\n",
    "Explanation: The arrays we are merging are [1,2,3] and [2,5,6].\n",
    "The result of the merge is [1,2,2,3,5,6] with the underlined elements coming from nums1.\n",
    "```\n",
    "Example 2:\n",
    "```\n",
    "Input: nums1 = [1], m = 1, nums2 = [], n = 0\n",
    "Output: [1]\n",
    "Explanation: The arrays we are merging are [1] and [].\n",
    "The result of the merge is [1].\n",
    "```\n",
    "Example 3:\n",
    "```\n",
    "Input: nums1 = [0], m = 0, nums2 = [1], n = 1\n",
    "Output: [1]\n",
    "Explanation: The arrays we are merging are [] and [1].\n",
    "The result of the merge is [1].\n",
    "Note that because m = 0, there are no elements in nums1. The 0 is only there to ensure the merge result can fit in nums1.\n",
    " ```"
   ]
  },
  {
   "cell_type": "code",
   "execution_count": 140,
   "id": "1014db2b-3954-4f4a-8e75-3ed210d030f1",
   "metadata": {},
   "outputs": [
    {
     "name": "stdout",
     "output_type": "stream",
     "text": [
      "[1, 2, 2, 3, 5, 6]\n"
     ]
    }
   ],
   "source": [
    "class Solution:\n",
    "    def merge(self, nums1: list[int], m: int, nums2: list[int], n: int) -> None:\n",
    "        \"\"\"\n",
    "        Do not return anything, modify nums1 in-place instead.\n",
    "        \"\"\"\n",
    "        nums1[:] = sorted(nums1[:m] + nums2[:n])\n",
    "checksol = Solution()\n",
    "nums1 = [1, 2, 3, 0, 0, 0];m = 3;nums2 = [2, 5, 6];n = 3;\n",
    "checksol.merge(nums1, m, nums2, n)\n",
    "print(nums1)"
   ]
  },
  {
   "cell_type": "markdown",
   "id": "dcc54fb0-1241-404c-8f75-db9c25cc1b58",
   "metadata": {
    "jp-MarkdownHeadingCollapsed": true
   },
   "source": [
    "## Q. 27: Remove Element:"
   ]
  },
  {
   "cell_type": "markdown",
   "id": "e4a8978e-6b26-4235-b41c-6680f42e4d9e",
   "metadata": {},
   "source": [
    "Given an integer array nums and an integer val, remove all occurrences of val in nums in-place. The order of the elements may be changed. Then return the number of elements in nums which are not equal to val.\n",
    "\n",
    "Consider the number of elements in nums which are not equal to val be k, to get accepted, you need to do the following things:\n",
    "\n",
    "- Change the array nums such that the first k elements of nums contain the elements which are not equal to val. The remaining elements of nums are not important as well as the size of nums.\n",
    "- Return k.\n",
    "\n",
    "Example 1:\n",
    "```\n",
    "Input: nums = [3,2,2,3], val = 3\n",
    "Output: 2, nums = [2,2,_,_]\n",
    "Explanation: Your function should return k = 2, with the first two elements of nums being 2.\n",
    "It does not matter what you leave beyond the returned k (hence they are underscores).\n",
    "```\n",
    "Example 2:\n",
    "```\n",
    "Input: nums = [0,1,2,2,3,0,4,2], val = 2\n",
    "Output: 5, nums = [0,1,4,0,3,_,_,_]\n",
    "Explanation: Your function should return k = 5, with the first five elements of nums containing 0, 0, 1, 3, and 4.\n",
    "Note that the five elements can be returned in any order.\n",
    "It does not matter what you leave beyond the returned k (hence they are underscores).\n",
    "```\n",
    "\n",
    "**Constraints:**\n",
    "\n",
    "- 0 <= nums.length <= 100\n",
    "- 0 <= nums[i] <= 50\n",
    "- 0 <= val <= 100\n"
   ]
  },
  {
   "cell_type": "code",
   "execution_count": 417,
   "id": "eec6aee8-f76b-47a1-94bb-adfee7dc6d19",
   "metadata": {},
   "outputs": [
    {
     "name": "stdout",
     "output_type": "stream",
     "text": [
      "(5, [0, 1, 3, 0, 4, '_', '_', '_'])\n"
     ]
    }
   ],
   "source": [
    "class Solution:\n",
    "    def removeElement(self, nums: list[int], val: int) -> int:\n",
    "        k = 0 \n",
    "        for i in range(len(nums)):\n",
    "            if nums[i] != val:\n",
    "                nums[k] = nums[i]\n",
    "                k += 1\n",
    "        for i in range(k, len(nums)):\n",
    "            nums[i] = '_'\n",
    "        return k , nums\n",
    "\n",
    "check_ = Solution()\n",
    "print(check_.removeElement([0, 1, 2, 2, 3, 0, 4, 2], 2))\n"
   ]
  },
  {
   "cell_type": "markdown",
   "id": "ea787a81-7621-41ba-b2a1-21dd18df2e6f",
   "metadata": {
    "jp-MarkdownHeadingCollapsed": true
   },
   "source": [
    "## Q. 26: Remove Duplicates from Sorted Array"
   ]
  },
  {
   "cell_type": "markdown",
   "id": "e750642e-2f3e-4595-9cd8-8ffca9e1d088",
   "metadata": {},
   "source": [
    "Given an integer array nums sorted in non-decreasing order, remove the duplicates in-place such that each unique element appears only once. The relative order of the elements should be kept the same. Then return the number of unique elements in nums.\n",
    "\n",
    "Consider the number of unique elements of nums to be k, to get accepted, you need to do the following things:\n",
    "\n",
    "- Change the array nums such that the first k elements of nums contain the unique elements in the order they were present in nums initially. The remaining elements of nums are not important as well as the size of nums.\n",
    "- Return k.\n"
   ]
  },
  {
   "cell_type": "code",
   "execution_count": 465,
   "id": "65c14559-deb4-43a7-bf75-2a1270622cdf",
   "metadata": {},
   "outputs": [
    {
     "name": "stdout",
     "output_type": "stream",
     "text": [
      "(2, [1, 2])\n"
     ]
    }
   ],
   "source": [
    "class Solution:\n",
    "    def removeDuplicates(self, nums: list[int]) -> int:\n",
    "        nums[:]= list(set(nums)) #if you want to create nums all over again, remove [:]\n",
    "        k = len(nums)\n",
    "        return k ,nums\n",
    "\n",
    "#Second solution:\n",
    "# class Solution:\n",
    "#     def removeDuplicates(self, nums: list[int]) -> int:\n",
    "#         k = 0\n",
    "#         for i in nums:\n",
    "#             if nums.count(i) != 1:\n",
    "#                 nums.remove(i)\n",
    "#                 nums[:] = nums\n",
    "#         k = len(nums)\n",
    "#         return k , nums\n",
    "checker = Solution()\n",
    "print(checker.removeDuplicates([1,2,1,1]))"
   ]
  },
  {
   "cell_type": "markdown",
   "id": "27cfd456-9ca3-482a-98fe-500931b1989c",
   "metadata": {
    "jp-MarkdownHeadingCollapsed": true
   },
   "source": [
    "## Q. 80: Remove Duplicates from Sorted Array II"
   ]
  },
  {
   "cell_type": "markdown",
   "id": "efd6e180-079f-4656-8b38-a6b9d6fe506d",
   "metadata": {},
   "source": [
    "Given an integer array nums sorted in non-decreasing order, remove some duplicates in-place such that each unique element appears at most twice. The relative order of the elements should be kept the same.\n",
    "\n",
    "Since it is impossible to change the length of the array in some languages, you must instead have the result be placed in the first part of the array nums. More formally, if there are k elements after removing the duplicates, then the first k elements of nums should hold the final result. It does not matter what you leave beyond the first k elements.\n",
    "\n",
    "Return k after placing the final result in the first k slots of nums."
   ]
  },
  {
   "cell_type": "code",
   "execution_count": 512,
   "id": "f9cfc940-9285-44c6-ada4-5f33e758ac04",
   "metadata": {},
   "outputs": [
    {
     "name": "stdout",
     "output_type": "stream",
     "text": [
      "136\n"
     ]
    }
   ],
   "source": [
    "# Solution 1:\n",
    "class Solution:\n",
    "    def removeDuplicates(self, nums: list[int]) -> int:\n",
    "        k = 0\n",
    "        while k < len(nums):\n",
    "            if nums.count(nums[k]) > 2:\n",
    "                nums.remove(nums[k])\n",
    "            else:\n",
    "                k+=1\n",
    "        return k\n",
    "\n",
    "#Solution 2:\n",
    "# class Solution:\n",
    "#     def removeDuplicates(self, nums: list[int]) -> int:\n",
    "#         k = 0\n",
    "#         for i in range(len(nums)):\n",
    "#             if i < 2 or nums[i] != nums[k - 2]:\n",
    "#                 nums[k] = nums[i] \n",
    "#                 k += 1\n",
    "#         return k , nums\n",
    "checker = Solution()\n",
    "print(checker.removeDuplicates([-50,-50,-49,-48,-47,-47,-47,-46,-45,-43,-42,-41,-40,-40,-40,-40,-40,-40,-39,-38,-38,-38,-38,-37,-36,-35,-34,-34,-34,-33,-32,-31,-30,-28,-27,-26,-26,-26,-25,-25,-24,-24,-24,-22,-22,-21,-21,-21,-21,-21,-20,-19,-18,-18,-18,-17,-17,-17,-17,-17,-16,-16,-15,-14,-14,-14,-13,-13,-12,-12,-10,-10,-9,-8,-8,-7,-7,-6,-5,-4,-4,-4,-3,-1,1,2,2,3,4,5,6,6,7,8,8,9,9,10,10,10,11,11,12,12,13,13,13,14,14,14,15,16,17,17,18,20,21,22,22,22,23,23,25,26,28,29,29,29,30,31,31,32,33,34,34,34,36,36,37,37,38,38,38,39,40,40,40,41,42,42,43,43,44,44,45,45,45,46,47,47,47,47,48,49,49,49,50]))"
   ]
  },
  {
   "cell_type": "markdown",
   "id": "ce932fa2-369b-4586-ab52-eb2019df2693",
   "metadata": {
    "jp-MarkdownHeadingCollapsed": true
   },
   "source": [
    "## Q. 169: Majority Element"
   ]
  },
  {
   "cell_type": "markdown",
   "id": "7eacc547-ddbe-48ab-b8da-1f1e1944e80b",
   "metadata": {},
   "source": [
    "Given an array nums of size n, return the majority element.\n",
    "\n",
    "The majority element is the element that appears more than [n / 2] times. You may assume that the majority element always exists in the array."
   ]
  },
  {
   "cell_type": "code",
   "execution_count": 536,
   "id": "8e84093b-4161-4832-a17b-3f9373fb491f",
   "metadata": {},
   "outputs": [
    {
     "name": "stdout",
     "output_type": "stream",
     "text": [
      "2\n"
     ]
    }
   ],
   "source": [
    "class Solution:\n",
    "    def majorityElement(self, nums: list[int]) -> int:\n",
    "        maj_len = len(nums)//2\n",
    "        for i in nums:\n",
    "            if nums.count(i) > maj_len:\n",
    "                return i\n",
    "        #Solution 2:\n",
    "        #return sorted(nums)[len(nums)//2]\n",
    "check = Solution()\n",
    "print(check.majorityElement([2,2,2,3]))"
   ]
  },
  {
   "cell_type": "markdown",
   "id": "271040bd-ae37-48d3-8d2e-0d4c0f63709b",
   "metadata": {
    "jp-MarkdownHeadingCollapsed": true
   },
   "source": [
    "## Q.189: Rotate Array"
   ]
  },
  {
   "cell_type": "markdown",
   "id": "56ed9d4a-8c75-477f-b402-8a0fb4388f74",
   "metadata": {},
   "source": [
    "Given an integer array nums, rotate the array to the right by k steps, where k is non-negative."
   ]
  },
  {
   "cell_type": "code",
   "execution_count": 10,
   "id": "7a174726-b676-4ebf-b2b6-2e431036266d",
   "metadata": {},
   "outputs": [
    {
     "name": "stdout",
     "output_type": "stream",
     "text": [
      "[5, 6, 7, 1, 2, 3, 4]\n"
     ]
    }
   ],
   "source": [
    "class Solution:\n",
    "    def rotate(self, nums: list[int], k: int) -> None:\n",
    "        \"\"\"\n",
    "        Do not return anything, modify nums in-place instead.\n",
    "        \"\"\"\n",
    "        k = k % len(nums)\n",
    "        remove_ = nums[len(nums)-k:len(nums)]\n",
    "        new_nums = nums[:len(nums)-k]\n",
    "        nums[:] = remove_ + new_nums\n",
    "        return nums\n",
    "check = Solution()\n",
    "print(check.rotate([1,2,3,4,5,6,7],3))"
   ]
  },
  {
   "cell_type": "markdown",
   "id": "880bf62a-4434-461f-918c-24b7fe1eeeb6",
   "metadata": {
    "jp-MarkdownHeadingCollapsed": true
   },
   "source": [
    "## Q. 121: Best Time to Buy and Sell Stock"
   ]
  },
  {
   "cell_type": "markdown",
   "id": "a2a7c73d-6b9a-4a27-86b0-5ec6d7c01237",
   "metadata": {},
   "source": [
    "You are given an array prices where prices[i] is the price of a given stock on the ith day.\n",
    "\n",
    "You want to maximize your profit by choosing a single day to buy one stock and choosing a different day in the future to sell that stock.\n",
    "\n",
    "Return the maximum profit you can achieve from this transaction. If you cannot achieve any profit, return 0.\n",
    "\n",
    " \n",
    "\n",
    "Example 1:\n",
    "```\n",
    "Input: prices = [7,1,5,3,6,4]\n",
    "Output: 5\n",
    "Explanation: Buy on day 2 (price = 1) and sell on day 5 (price = 6), profit = 6-1 = 5.\n",
    "Note that buying on day 2 and selling on day 1 is not allowed because you must buy before you sell.\n",
    "```\n",
    "Example 2:\n",
    "```\n",
    "Input: prices = [7,6,4,3,1]\n",
    "Output: 0\n",
    "Explanation: In this case, no transactions are done and the max profit = 0.\n",
    "```"
   ]
  },
  {
   "cell_type": "code",
   "execution_count": 253,
   "id": "f3758c49-b8fe-4033-9b3b-d715f5000ff5",
   "metadata": {},
   "outputs": [
    {
     "name": "stdout",
     "output_type": "stream",
     "text": [
      "5\n",
      "0\n",
      "2\n",
      "47\n"
     ]
    }
   ],
   "source": [
    "class Solution:\n",
    "    def maxProfit(self, prices: list[int]) -> int:\n",
    "        list_stock = []\n",
    "        for i in range(0,len(prices)-1):\n",
    "            for j in range(i+1,len(prices)):\n",
    "                tot = prices[j] - prices[i]\n",
    "                if tot >0:\n",
    "                    list_stock.append(tot)\n",
    "        for stock in list_stock:\n",
    "            if stock >=0:\n",
    "                return max(list_stock)\n",
    "        return 0\n",
    "check = Solution()\n",
    "print(check.maxProfit([7,1,5,3,6,4]))\n",
    "print(check.maxProfit([7, 6, 4, 3, 1]))\n",
    "print(check.maxProfit([7, 6, 8, 3, 1]))\n",
    "print(check.maxProfit([7, 12, 23, 54, 0, 3, 1]))"
   ]
  },
  {
   "cell_type": "markdown",
   "id": "bdca0b16-ea95-46f4-92db-e48547ff8d2e",
   "metadata": {
    "jp-MarkdownHeadingCollapsed": true
   },
   "source": [
    "## Q 122: Best Time to Buy and Sell Stock II\n"
   ]
  },
  {
   "cell_type": "markdown",
   "id": "339938ae-ef15-414b-935c-7412337357b2",
   "metadata": {},
   "source": [
    "You are given an integer array prices where prices[i] is the price of a given stock on the ith day.\n",
    "\n",
    "On each day, you may decide to buy and/or sell the stock. You can only hold at most one share of the stock at any time. However, you can buy it then immediately sell it on the same day.\n",
    "\n",
    "Find and return the maximum profit you can achieve.\n",
    "\n",
    "Example 1:\n",
    "```\n",
    "Input: prices = [7,1,5,3,6,4]\n",
    "Output: 7\n",
    "Explanation: Buy on day 2 (price = 1) and sell on day 3 (price = 5), profit = 5-1 = 4.\n",
    "Then buy on day 4 (price = 3) and sell on day 5 (price = 6), profit = 6-3 = 3.\n",
    "Total profit is 4 + 3 = 7.\n",
    "```\n",
    "Example 2:\n",
    "```\n",
    "Input: prices = [1,2,3,4,5]\n",
    "Output: 4\n",
    "Explanation: Buy on day 1 (price = 1) and sell on day 5 (price = 5), profit = 5-1 = 4.\n",
    "Total profit is 4.\n",
    "```\n",
    "Example 3:\n",
    "```\n",
    "Input: prices = [7,6,4,3,1]\n",
    "Output: 0\n",
    "Explanation: There is no way to make a positive profit, so we never buy the stock to achieve the maximum profit of 0.\n",
    "```"
   ]
  },
  {
   "cell_type": "code",
   "execution_count": 307,
   "id": "6b3b7331-d28e-4ed6-ba88-e3af1cf22fa8",
   "metadata": {},
   "outputs": [
    {
     "name": "stdout",
     "output_type": "stream",
     "text": [
      "7\n",
      "4\n",
      "2\n",
      "50\n",
      "0\n"
     ]
    }
   ],
   "source": [
    "class Solution:\n",
    "    def maxProfit(self, prices: list[int]) -> int:\n",
    "        list_stock = []\n",
    "        for i in range(0,len(prices)-1):\n",
    "            if prices[i+1] >= prices[i]:\n",
    "                tot = prices[i+1] - prices[i]\n",
    "                list_stock.append(tot)\n",
    "        for stock in list_stock:\n",
    "            if stock >=0:\n",
    "                return sum(list_stock)\n",
    "        return 0\n",
    "check = Solution()\n",
    "print(check.maxProfit([7,1,5,3,6,4]))\n",
    "print(check.maxProfit([1,2,3,4,5]))\n",
    "print(check.maxProfit([7, 6, 8, 3, 1]))\n",
    "print(check.maxProfit([7, 12, 23, 54, 0, 3, 1]))\n",
    "print(check.maxProfit([7, 6, 4, 3, 1]))"
   ]
  },
  {
   "cell_type": "markdown",
   "id": "007362bb-ad0c-4cd0-b283-f4df77cf4806",
   "metadata": {
    "jp-MarkdownHeadingCollapsed": true
   },
   "source": [
    "## Q. 55: Jump Game"
   ]
  },
  {
   "cell_type": "markdown",
   "id": "a5e70457-7904-4677-9b24-0709c571cb3c",
   "metadata": {},
   "source": [
    "You are given an integer array nums. You are initially positioned at the array's first index, and each element in the array represents your maximum jump length at that position.\n",
    "\n",
    "Return true if you can reach the last index, or false otherwise.\n",
    "\n",
    " \n",
    "\n",
    "Example 1:\n",
    "```\n",
    "Input: nums = [2,3,1,1,4]\n",
    "Output: true\n",
    "Explanation: Jump 1 step from index 0 to 1, then 3 steps to the last index.\n",
    "```\n",
    "Example 2:\n",
    "```\n",
    "Input: nums = [3,2,1,0,4]\n",
    "Output: false\n",
    "Explanation: You will always arrive at index 3 no matter what. Its maximum jump length is 0, which makes it impossible to reach the last index.\n",
    "```"
   ]
  },
  {
   "cell_type": "code",
   "execution_count": 545,
   "id": "be68ee81-6459-4288-ae17-99dcd26a5e43",
   "metadata": {},
   "outputs": [
    {
     "name": "stdout",
     "output_type": "stream",
     "text": [
      "True\n",
      "True\n",
      "False\n",
      "False\n",
      "True\n",
      "False\n"
     ]
    }
   ],
   "source": [
    "#Solution1:\n",
    "class Solution:\n",
    "    def canJump(self, nums: list[int]) -> bool:\n",
    "        step = range(0, len(nums)-1)\n",
    "        for j in step:\n",
    "            if j + nums[j] >= len(nums) - 1:\n",
    "                return True\n",
    "        if nums[0]==0:\n",
    "            return False\n",
    "            if len(nums)==1:\n",
    "                return True\n",
    "        return False\n",
    "\n",
    "#Solution2:\n",
    "# class Solution:\n",
    "#     def canJump(self, nums: list[int]) -> bool:\n",
    "#         step = range(0,nums[0]+1)\n",
    "#         # for i in range(len(nums)):\n",
    "#         for j in range(len(step)):\n",
    "#             if nums[step[j]+nums[step[j]]] == (len(nums)-1):\n",
    "#                 return True\n",
    "#         return False\n",
    "\n",
    "#Solution3:\n",
    "# class Solution:\n",
    "#     def canJump(self, nums: list[int]) -> bool:\n",
    "#         max_reach = 0 \n",
    "#         for i in range(len(nums)):\n",
    "#             if i > max_reach:\n",
    "#                 return False\n",
    "#             max_reach = max(max_reach, i + nums[i]) \n",
    "#             if max_reach >= len(nums) - 1:\n",
    "#                 return True \n",
    "#         return False\n",
    "\n",
    "#Solution4:\n",
    "# class Solution:\n",
    "#     def canJump(self, nums: list[int]) -> bool:\n",
    "#         step = len(nums) - 1\n",
    "#         for i in range(len(nums) - 1, -1, -1):\n",
    "#             if i + nums[i] >= step:\n",
    "#                 step = i\n",
    "#         return step == 0 \n",
    "\n",
    "check = Solution()\n",
    "print(check.canJump([2, 3, 1, 1, 4])) \n",
    "print(check.canJump([1, 1, 1, 0]))   \n",
    "print(check.canJump([3, 2, 1, 0, 4]))  \n",
    "print(check.canJump([0]))  \n",
    "print(check.canJump([0,2,3]))  \n",
    "print(check.canJump([1]))"
   ]
  },
  {
   "cell_type": "markdown",
   "id": "7d12fba0-7dd5-42c0-bf2f-c11828582b33",
   "metadata": {},
   "source": [
    "## Q. 45: Jump Game II"
   ]
  },
  {
   "cell_type": "markdown",
   "id": "8cf07bf7-80b1-40dd-91a9-9c4e6761442a",
   "metadata": {},
   "source": [
    "\n",
    "You are given a 0-indexed array of integers nums of length n. You are initially positioned at nums[0].\n",
    "\n",
    "Each element nums[i] represents the maximum length of a forward jump from index i. In other words, if you are at nums[i], you can jump to any nums[i + j] where:\n",
    "\n",
    "    0 <= j <= nums[i] and\n",
    "    i + j < n\n",
    "\n",
    "Return the minimum number of jumps to reach nums[n - 1]. The test cases are generated such that you can reach nums[n - 1].\n",
    "\n",
    " \n",
    "\n",
    "Example 1:\n",
    "```\n",
    "Input: nums = [2,3,1,1,4]\n",
    "Output: 2\n",
    "Explanation: The minimum number of jumps to reach the last index is 2. Jump 1 step from index 0 to 1, then 3 steps to the last index.\n",
    "```\n",
    "Example 2:\n",
    "```\n",
    "Input: nums = [2,3,0,1,4]\n",
    "Output: 2\n",
    "```\n",
    " "
   ]
  },
  {
   "cell_type": "code",
   "execution_count": 625,
   "id": "43e045c3-aff4-40b8-9b45-033a4e692952",
   "metadata": {},
   "outputs": [
    {
     "name": "stdout",
     "output_type": "stream",
     "text": [
      "2\n",
      "2\n",
      "0\n"
     ]
    }
   ],
   "source": [
    "class Solution:\n",
    "    def jump(self, nums: list[int]) -> int:\n",
    "        jumps , current_end , farthest = 0 , 0 , 0\n",
    "        for j in range(len(nums) - 1):\n",
    "            farthest = max(farthest, j + nums[j])\n",
    "            if j == current_end:\n",
    "                jumps += 1\n",
    "                current_end = farthest\n",
    "                if current_end >= len(nums) - 1:\n",
    "                    return jumps \n",
    "        return jumps\n",
    "        \n",
    "check = Solution()\n",
    "print(check.jump([2, 3, 1, 1, 4]))\n",
    "print(check.jump([2, 3, 0, 1, 4]))\n",
    "print(check.jump([0]))\n",
    "\n",
    "#Solution2:\n",
    "# class Solution:\n",
    "#     def jump(self, nums: List[int]) -> int:\n",
    "#         l,r=0,0\n",
    "#         res=0\n",
    "#         farthest=0\n",
    "#         while r<len(nums)-1:\n",
    "#             for i in range(l,r+1):\n",
    "#                 farthest=max(farthest,i+nums[i])\n",
    "#             l=r+1\n",
    "#             r=farthest\n",
    "#             res+=1\n",
    "#         return res"
   ]
  },
  {
   "cell_type": "markdown",
   "id": "101116c0-4f18-417b-a44f-f78c96bfd7cf",
   "metadata": {},
   "source": [
    "## Q. 274: H-Index"
   ]
  },
  {
   "cell_type": "markdown",
   "id": "77d7f330-4aea-4f4e-82b7-8806bc13c166",
   "metadata": {},
   "source": [
    "Given an array of integers citations where citations[i] is the number of citations a researcher received for their ith paper, return the researcher's h-index.\n",
    "\n",
    "According to the definition of h-index on Wikipedia: The h-index is defined as the maximum value of h such that the given researcher has published at least h papers that have each been cited at least h times.\n",
    "\n",
    " \n",
    "\n",
    "Example 1:\n",
    "```\n",
    "Input: citations = [3,0,6,1,5]\n",
    "Output: 3\n",
    "Explanation: [3,0,6,1,5] means the researcher has 5 papers in total and each of them had received 3, 0, 6, 1, 5 citations respectively.\n",
    "Since the researcher has 3 papers with at least 3 citations each and the remaining two with no more than 3 citations each, their h-index is 3.\n",
    "```\n",
    "Example 2:\n",
    "```\n",
    "Input: citations = [1,3,1]\n",
    "Output: 1\n",
    "```"
   ]
  },
  {
   "cell_type": "code",
   "execution_count": null,
   "id": "53b910ae-a041-4193-9270-13b151f8231a",
   "metadata": {},
   "outputs": [],
   "source": []
  },
  {
   "cell_type": "code",
   "execution_count": null,
   "id": "af5dc54c-3a57-4735-9828-40e49507db21",
   "metadata": {},
   "outputs": [],
   "source": []
  },
  {
   "cell_type": "code",
   "execution_count": null,
   "id": "9ff98ee4-338d-41da-85b3-f544b2de3d11",
   "metadata": {},
   "outputs": [],
   "source": []
  },
  {
   "cell_type": "code",
   "execution_count": null,
   "id": "f4259a8f-879a-4ddb-be07-51d7379bf9ac",
   "metadata": {},
   "outputs": [],
   "source": []
  }
 ],
 "metadata": {
  "kernelspec": {
   "display_name": "Python [conda env:base] *",
   "language": "python",
   "name": "conda-base-py"
  },
  "language_info": {
   "codemirror_mode": {
    "name": "ipython",
    "version": 3
   },
   "file_extension": ".py",
   "mimetype": "text/x-python",
   "name": "python",
   "nbconvert_exporter": "python",
   "pygments_lexer": "ipython3",
   "version": "3.12.3"
  }
 },
 "nbformat": 4,
 "nbformat_minor": 5
}
